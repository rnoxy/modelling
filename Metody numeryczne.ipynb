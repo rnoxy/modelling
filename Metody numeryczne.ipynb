{
 "cells": [
  {
   "cell_type": "markdown",
   "metadata": {},
   "source": [
    "<script type=\"text/x-mathjax-config\">\n",
    "MathJax.Hub.Config({\n",
    "  TeX: { equationNumbers: { autoNumber: \"AMS\" } }\n",
    "});\n",
    "</script>"
   ]
  },
  {
   "cell_type": "markdown",
   "metadata": {},
   "source": [
    "# Metody numeryczne rozwiązywania równań różniczkowych zwyczajnych\n",
    "\n",
    "## Równania pierwszego rzędu\n",
    "Rozważamy równanie \\begin{equation} \\bbox[7px,border:2px solid red] { y' = f(t,y) } \\end{equation}"
   ]
  },
  {
   "cell_type": "markdown",
   "metadata": {},
   "source": [
    ">**Przykład 1**.\n",
    "Niech będzie $$ f(t,y) = 1-2t+4y. $$"
   ]
  },
  {
   "cell_type": "code",
   "execution_count": 6,
   "metadata": {
    "collapsed": false
   },
   "outputs": [],
   "source": [
    "f(t,y) = 1 - 2t + 4y;"
   ]
  },
  {
   "cell_type": "markdown",
   "metadata": {},
   "source": [
    "> Rozwiązanie ogólne\n",
    "$$ y(t) = c_1 \\exp(4 t)+\\frac t2-\\frac18 $$"
   ]
  },
  {
   "cell_type": "markdown",
   "metadata": {
    "collapsed": true
   },
   "source": [
    ">Rozważmy **zagadnienie początkowe**\n",
    "$$ y(0) = 1 $$"
   ]
  },
  {
   "cell_type": "code",
   "execution_count": 7,
   "metadata": {
    "collapsed": false
   },
   "outputs": [
    {
     "name": "stdout",
     "output_type": "stream",
     "text": [
      "c1 = 1.125"
     ]
    }
   ],
   "source": [
    "t0 = 0.0;\n",
    "y0 = 1.0;\n",
    "\n",
    "c1 = ( y0+1/8-t0/2 ) / exp(4*t0);\n",
    "@show c1\n",
    "exactSolution(t) = c1 * exp(4t)+t/2-1/8;"
   ]
  },
  {
   "cell_type": "markdown",
   "metadata": {},
   "source": [
    "Rozważamy aproksymację rozwiązania $y(t)$ w przedziale $(t_0, b)$ w równoodległych punktach\n",
    "$$ t_j = t_0 + j h, \\qquad t_N = b $$\n",
    "### Metoda Eulera\n",
    "* Najprostszą metodą jest **metoda jawna Eulera**\n",
    "  $$ \\bbox[7px,border:2px solid red]{ y_{n+1} = y_n + h f( t_n, y_n ) } $$\n",
    "\n",
    "Jest to metoda rzędu pierwszego."
   ]
  },
  {
   "cell_type": "code",
   "execution_count": 8,
   "metadata": {
    "collapsed": false
   },
   "outputs": [
    {
     "name": "stdout",
     "output_type": "stream",
     "text": [
      "\n",
      "elapsed time: 0."
     ]
    }
   ],
   "source": [
    "# Metoda jawna Eulera\n",
    "a = t0\n",
    "b = 2.0      # konstruujemy rozwiązanie y(t) dla t \\in (0, 2)\n",
    "\n",
    "N = 1000000     # liczba iteracji w metodzie Eulera\n",
    "h = (b-a)/N  # krok w metodzie Eulera\n",
    "\n",
    "tic()\n",
    "t, y = t0, y0\n",
    "for i=1:N\n",
    "    y = y+h*f(t,y)\n",
    "    t = t+h\n",
    "end\n",
    "toc()\n",
    "\n",
    "@printf(\"Liczba kroków = %d\\n\", N);\n",
    "@printf(\"Krok = %.2e\\n\", h);\n",
    "@printf(\"Rozwiązanie przybliżone = %5.16f\\n\", y);\n",
    "exact = exactSolution(b)\n",
    "@printf(\"Rozwiązanie dokładne    = %5.16f\\n\", exact);\n",
    "@printf(\"Błąd bezwzględny        = %5.3e\\n\", abs(y-exact));\n"
   ]
  },
  {
   "cell_type": "markdown",
   "metadata": {},
   "source": [
    "## Metody niejawne\n",
    "Dużo lepsze rezultaty można uzyskać stosując **metody niejawne**.\n",
    "\n",
    "* **wzór wsteczny Eulera**\n",
    "$$ \\bbox[7px,border:2px solid red]{ y_{n+1} = y_n + h f(t_{n+1}, y_{n+1}) } $$\n",
    "Jak widać, niewiadoma $y_{n+1}$ jest podana wyżej w sposób niejawny. Aby zaprogramować taką metodę, należy wcześniej rozwiązać powyższe równanie ze względnu na niewiadomą $y_{n+1}$.\n",
    "Metoda ta jest również rzędu pierwsego.\n",
    ">W wypadku, gdy $f(t,y)$ jest funkcją liniową zmiennej $y$, to sytuacja jest bardzo prosta.\n",
    "Mianowicie, mamy\n",
    "$$ y_{n+1} = y_n + h \\left( 1 - 2t_{n+1} + 4 y_{n+1} \\right), $$\n",
    "czyli\n",
    "$$ y_{n+1} = \\frac{y_n + h - 2ht_{n+1}}{1-4h} = y_n + \\frac{h}{1-4h}f(t_{n+1},y_n). $$"
   ]
  },
  {
   "cell_type": "code",
   "execution_count": 9,
   "metadata": {
    "collapsed": false
   },
   "outputs": [
    {
     "name": "stdout",
     "output_type": "stream",
     "text": [
      "438838576 seconds\n",
      "Liczba kroków = 1000000\n",
      "Krok = 2.00e-06\n",
      "Rozwiązanie przybliżone = 3354.3454232246353968\n",
      "Rozwiązanie dokładne    = 3354.4527354219444533\n",
      "Błąd bezwzględny        = 1.073e-01\n",
      "elapsed time: 0."
     ]
    }
   ],
   "source": [
    "# Wzór wsteczny Eulera\n",
    "tic()\n",
    "t, y = t0, y0\n",
    "for i=1:N\n",
    "    y = y+h/(1-4h)*f(t+h,y)\n",
    "    t = t+h\n",
    "end\n",
    "toc()\n",
    "\n",
    "@printf(\"Liczba kroków = %d\\n\", N);\n",
    "@printf(\"Krok = %.2e\\n\", h);\n",
    "@printf(\"Rozwiązanie przybliżone = %5.16f\\n\", y);\n",
    "@printf(\"Rozwiązanie dokładne    = %5.16f\\n\", exact);\n",
    "@printf(\"Błąd bezwzględny        = %5.3e\\n\", abs(y-exact));"
   ]
  },
  {
   "cell_type": "markdown",
   "metadata": {},
   "source": [
    "* **wzór trapezów**\n",
    "Ponieważ, rozwiązanie dokładne $y(t)$ spełnia równanie całkowe\n",
    "$$ y(t_{n+1}) = y(t_n) + \\int_{t_n}^{t_{n+1}} f(t,y(y)) \\, \\mathrm dt, $$\n",
    "więc jeśli powyższą całkę przybliżamy za pomocą **wzoru trapezów**, to otrzymujemy następującą metodę niejawną\n",
    "$$ \\bbox[7px,border:2px solid red]{ y_{n+1} = y_n + \\frac{h}{2}\\left[ f(t_n, y_n) + f(t_{n+1}, y_{n+1}) \\right] . } $$\n",
    "\n",
    ">Znów, jeśli $f$ jest funkcją liniową zmiennej $y$, to łatwo uzyskujemy wzory dla $y_{n+1}$:\n",
    "$$ y_{n+1} = y_n + \\frac{h}{2}\\left[ 1-2t_n+4y_n + 1-2t_{n+1}+4y_{n+1} \\right] $$\n",
    "$$ y_{n+1} = y_n + h\\left[ 1-t_n+2y_n -t_{n+1}+2y_{n+1} \\right] $$\n",
    "$$ y_{n+1} = \\frac{ y_n + h-ht_n+2hy_n - ht_{n+1} } {1-2h}  $$\n",
    "$$ y_{n+1} = y_n + h\\frac{ f(t_{n+1}, y_n) + h } {1-2h}  $$"
   ]
  },
  {
   "cell_type": "code",
   "execution_count": 10,
   "metadata": {
    "collapsed": false
   },
   "outputs": [
    {
     "name": "stdout",
     "output_type": "stream",
     "text": [
      "549460947 seconds\n",
      "Liczba kroków = 1000000\n",
      "Krok = 2.00e-06\n",
      "Rozwiązanie przybliżone = 3354.5600521997430405\n",
      "Rozwiązanie dokładne    = 3354.4527354219444533\n",
      "Błąd bezwzględny        = 1.073e-01\n",
      "elapsed time: 0.565646817 seconds\n",
      "Liczba kroków = 1000000\n",
      "Krok = 2.00e-06\n",
      "Rozwiązanie przybliżone = 3354.4527355655686733\n",
      "Rozwiązanie dokładne    = 3354.4527354219444533\n",
      "Błąd bezwzględny        = 1.436e-07\n"
     ]
    }
   ],
   "source": [
    "# Wzór trapezów\n",
    "N = 1000000     # liczba iteracji w metodzie Eulera\n",
    "h = (b-a)/N     # krok w metodzie Eulera\n",
    "\n",
    "tic()\n",
    "t, y = t0, y0\n",
    "for i=1:N\n",
    "    y = y+h/(1-2h)*(f(t+h,y)+h)\n",
    "    t = t+h\n",
    "end\n",
    "toc()\n",
    "\n",
    "@printf(\"Liczba kroków = %d\\n\", N);\n",
    "@printf(\"Krok = %.2e\\n\", h);\n",
    "@printf(\"Rozwiązanie przybliżone = %5.16f\\n\", y);\n",
    "@printf(\"Rozwiązanie dokładne    = %5.16f\\n\", exact);\n",
    "@printf(\"Błąd bezwzględny        = %5.3e\\n\", abs(y-exact));"
   ]
  },
  {
   "cell_type": "markdown",
   "metadata": {},
   "source": [
    "Można udowodnić, że jest to metoda **rzędu drugiego**."
   ]
  },
  {
   "cell_type": "markdown",
   "metadata": {},
   "source": [
    "## Ulepszone metody\n",
    "W metodach niejawnych, największym problemem jest rozwiązywanie równania, często nieliniowego, ze względu na niewiadomą $y_{n+1}$. Można się tego problemu pozbyć, jeśli wartość jej *przybliżymy* za pomocą innej --- jawnej --- metody.\n",
    "Na przykład:\n",
    "* **ulepszony wzór wsteczny Eulera** określony jest w następujący sposób:\n",
    "$$ \\bbox[7px,border:2px solid red]{ y_{n+1} = y_n + h f(t_{n+1}, \\hat y_{n+1}),  \\qquad \\text{gdzie} \\quad \\hat y_{n+1} = y_n + h f(t_n, y_n). } $$\n",
    "* **ulepszony wzór trapezów**\n",
    "$$ \\bbox[7px,border:2px solid red]{ y_{n+1} = y_n + \\frac{h}{2}\\left[f(t_n,y_n) + f(t_{n+1}, \\hat y_{n+1})\\right],  \\qquad \\text{gdzie} \\quad \\hat y_{n+1} = y_n + h f(t_n, y_n). } $$\n",
    "\n",
    "### Predict-Corrector\n",
    "Co ciekawe, proces ulepszania można iterować, tzn. obliczać\n",
    "$$\n",
    "\\begin{align*}\n",
    "\\hat y_{n+1}^{(0)} &= \\text{(wzór jawny/niejawny/ulepszony metody)} \\\\\n",
    "\\hat y_{n+1}^{(1)} &= \\text{(ulepszony wzór niejawny metody dla $\\hat y_{n+1} := \\hat y_{n+1}^{(0)}$)} \\\\\n",
    "\\hat y_{n+1}^{(2)} &= \\text{(ulepszony wzór niejawny metody dla $\\hat y_{n+1} := \\hat y_{n+1}^{(1)}$)} \\\\\n",
    "&\\vdots\n",
    "\\end{align*}\n",
    "$$\n",
    "\n",
    "W ten sposób otrzymujemy\n",
    "* **iterowany ulepszony wzór wsteczny Eulera**\n",
    "$$\\bbox[7px,border:2px solid red]{\n",
    "\\begin{align*}\n",
    "\\hat y_{n+1}^{(0)} &= y_n + h f(t_n, y_n) \\qquad &\\text{(jawny wzór Eulera)} \\\\\n",
    "\\hat y_{n+1}^{(1)} &= y_n + h f(t_{n+1}, \\hat y_{n+1}^{(0)}) \\qquad &\\text{(ulepszony wzór wsteczny Eulera)} \\\\\n",
    "\\hat y_{n+1}^{(2)} &= y_n + h f(t_{n+1}, \\hat y_{n+1}^{(1)}) \\qquad &\\text{(ulepszony wzór wsteczny Eulera)} \\\\\n",
    "&\\vdots \\\\\n",
    "\\hat y_{n+1}^{(K)} &= y_n + h f(t_{n+1}, \\hat y_{n+1}^{(K-1)}) \\qquad &\\text{(ulepszony wzór wsteczny Eulera)}\n",
    "\\end{align*}}\n",
    "$$\n",
    "* **iterowany ulepszony wzór trapezów**\n",
    "$$\\bbox[7px,border:2px solid red]{\n",
    "\\begin{align*}\n",
    "\\hat y_{n+1}^{(0)} &= y_n + h f(t_n, y_n) \\qquad &\\text{(jawny wzór Eulera)} \\\\\n",
    "\\hat y_{n+1}^{(1)} &= y_n + \\frac h2 \\left[ f(t_n,y_n) + f(t_{n+1}, \\hat y_{n+1}^{(0)})\\right] \\qquad &\\text{(ulepszony wzór trapezów)} \\\\\n",
    "\\hat y_{n+1}^{(2)} &= y_n + \\frac h2 \\left[ f(t_n,y_n) + f(t_{n+1}, \\hat y_{n+1}^{(1)})\\right] \\qquad &\\text{(ulepszony wzór trapezów)} \\\\\n",
    "&\\vdots \\\\\n",
    "\\hat y_{n+1}^{(K)} &= y_n + \\frac h2 \\left[ f(t_n,y_n) + f(t_{n+1}, \\hat y_{n+1}^{(K-1)})\\right] \\qquad &\\text{(ulepszony wzór trapezów)} \n",
    "\\end{align*}}\n",
    "$$"
   ]
  },
  {
   "cell_type": "markdown",
   "metadata": {},
   "source": [
    "## Metody z punktem środkowym\n",
    "Przypomnijmy, że wszystkie poprzednie metody otrzymano stąd, że\n",
    "$$ y_{n+1} = y_n + \\int_{t_n}^{t_{n+1}} f(t,y(t)) \\,\\mathrm dt. $$\n",
    "Do przybliżenia powyższej całki używano jedynie wartości na końcach przedziału całkowania, tj. w punktach $t_n$, $t_{n+1}$. Oczywiste jest, że jeśli użyjemy większej informacji o funkcji $f(t,y(t))$, to powinniśmy otrzymać jeszcze lepsze przybliżenia powyższej całki.\n",
    "\n",
    "W metodach z punktem środkowym wykorzystuje się dodatkowy punkt $t_{n+1/2} = t_n + h/2$.\n",
    "Podobnie, jak poprzednio, możemy w ten sposób otrzymywać metody jawne, niejawne, ulepszone, a nawet możemy stosować itrowane ulepszanie.\n",
    "\n",
    "Na przykład, korzystając z przybliżenia\n",
    "$$ \\int_a^b f(t) \\,\\mathrm dt \\approx (b-a) \\, f( \\tfrac{a+b}2 ), $$\n",
    "otrzymujemy następującą **jawną metodę punktu środkowego**\n",
    "$$ y_{n+1} = y_n + h f(t_n+\\tfrac h2, y_{n+1/2}), \\qquad\\text{gdzie}\\quad  y_{n+1/2} = y_n + \\tfrac h2 f(t_n, y_n). $$\n",
    "Można ją zapisać w następującej postaci:\n",
    "$$\\bbox[7px,border:2px solid red]{\n",
    "\\begin{align*}\n",
    "K_1   &= h \\, f(t_n, y_n) \\\\\n",
    "K_2   &= h \\, f(t_n+\\tfrac h2, y_n + \\tfrac12 K_1 ) \\\\\n",
    "y_{n+1} &= y_n + K2.\n",
    "\\end{align*}}\n",
    "$$\n",
    "\n",
    "Drobna zmiana daje **niejawną metodę z punktem środkowym**\n",
    "$$\\bbox[7px,border:2px solid red]{\n",
    "\\begin{align*}\n",
    "K_1      &= h \\, f\\left(t_n+\\tfrac h2, y_n + \\tfrac12 K_1\\right) \\\\\n",
    "y_{n+1} &= y_n + K_1.\n",
    "\\end{align*}}\n",
    "$$\n"
   ]
  },
  {
   "cell_type": "markdown",
   "metadata": {},
   "source": [
    "## Metody Rungego-Kutty\n",
    "Jeśli w metodzie punktu środkowego zastosujemy proces ulepszania, to możemy uzyskać w ten sposób, np. następujące dwa warianty **ulepszonej metody punktu środkowego**:\n",
    "$$\\bbox[7px,border:2px solid red]{\n",
    "\\begin{align*}\n",
    "K_1   &= h \\, f(t_n, y_n) \\\\\n",
    "K_2   &= h \\, f(t_n+\\tfrac h2, y_n + \\tfrac12 K_1 ) \\\\\n",
    "K_3   &= h \\, f(t_n+\\tfrac h2, y_n + \\tfrac12 K_2 ) & \\text{(ulepszona wartość $K_2$)} \\\\\n",
    "y_{n+1} &= y_n + K_3 & \\text{(wariant 1)} \\\\\n",
    "y_{n+1} &= y_n + \\tfrac12 K_2 + \\tfrac 12 K_3 & \\text{(wariant 2)}\n",
    "\\end{align*}}\n",
    "$$\n",
    "W ogólności, można tak\n",
    "$$ y_{n+1} = y_n + c_1 K_1 + c_2 K_2 + c_3 K_3, \\qquad \\text{gdzie}\\quad c_1+c_2+c_3 = 1. $$\n",
    "\n",
    "W metodzie Rungego-Kutty stosuje się ten sam pomysł, z tym, że starutujemy od wzoru\n",
    "$$\n",
    "\\int_a^b f(t) \\mathrm dt = h( \\tfrac16 f(a) + \\tfrac46 f(\\tfrac{a+b}{2}) + \\tfrac16 f(b) ).\n",
    "$$\n",
    "Otrzumujemy wówczas związek\n",
    "$$\n",
    "y_{n+1} = y_n + \\tfrac16 hf(t_n,y_n) + \\tfrac46 hf(t_n+\\tfrac h2, y_{n+1/2}) + \\tfrac 16 h f(t_n+h, y_{n+1}),\n",
    "$$\n",
    "w którym występują nieznane $y_{n+1/2}$ i $y_{n+1}$ odpowiednio w drugim i trzecim składniku.\n",
    "Proponuje się rozbić drugi składnik na dwa:\n",
    "$$ \\tfrac46 hf(t_n+\\tfrac h2, y_{n+1/2}) = \\tfrac23 hf(t_n+\\tfrac h2, y_{n+1/2}) + \\tfrac23 hf(t_n+\\tfrac h2, y_{n+1/2}), $$\n",
    "a następnie w pierwszym zastsosować przybliżenie\n",
    "$$ y_{n+1/2}^{(0)} := y_n + \\tfrac h2 f(t_n,y_n) \\qquad \\text{czyli wzór jawny Eulera}, $$\n",
    "a w drugim --- przybliżenie \n",
    "$$ y_{n+1/2}^{(1)} := y_n + \\tfrac h2 f(t_n+\\tfrac h2,y_{n+1}^{(0)}) \\qquad \\text{czyli ulepszony wzór jawny Eulera}, $$\n",
    "Klasyczną wersję tej metody opisują więc wzory\n",
    "$$\\bbox[7px,border:2px solid red]{\n",
    "\\begin{align*}\n",
    "K_1   &= h \\, f(t_n, y_n) \\\\\n",
    "K_2   &= h \\, f(t_n+\\tfrac h2, y_n + \\tfrac12 K_1 ) \\\\\n",
    "K_3   &= h \\, f(t_n+\\tfrac h2, y_n + \\tfrac12 K_2 ) & \\text{(ulepszona wartość $K_2$)} \\\\\n",
    "K_4   &= h \\, f(t_n+h, y_n + K_3) \\\\\n",
    "y_{n+1} &= y_n + \\tfrac16 K_1 + \\tfrac 26 K_2 + \\tfrac 26 K_3 + \\tfrac 16K_4\n",
    "\\end{align*}}\n",
    "$$"
   ]
  }
 ],
 "metadata": {
  "kernelspec": {
   "display_name": "Julia 0.4.5",
   "language": "julia",
   "name": "julia-0.4"
  },
  "language_info": {
   "file_extension": ".jl",
   "mimetype": "application/julia",
   "name": "julia",
   "version": "0.4.5"
  }
 },
 "nbformat": 4,
 "nbformat_minor": 0
}
